{
 "cells": [
  {
   "cell_type": "code",
   "execution_count": 1,
   "metadata": {
    "ExecuteTime": {
     "end_time": "2020-08-22T19:18:41.649676Z",
     "start_time": "2020-08-22T19:18:41.402018Z"
    }
   },
   "outputs": [],
   "source": [
    "# Import packages\n",
    "import os\n",
    "import sys\n",
    "import datetime\n",
    "import numpy as np\n",
    "import pandas as pd\n",
    "import yfinance as yf\n",
    "\n",
    "import matplotlib.pyplot as plt\n",
    "%matplotlib inline"
   ]
  },
  {
   "cell_type": "markdown",
   "metadata": {},
   "source": [
    "# Data Exploration"
   ]
  },
  {
   "cell_type": "code",
   "execution_count": 2,
   "metadata": {
    "ExecuteTime": {
     "end_time": "2020-08-22T19:18:41.653730Z",
     "start_time": "2020-08-22T19:18:41.650647Z"
    }
   },
   "outputs": [
    {
     "data": {
      "text/plain": [
       "(datetime.date(2010, 1, 1), datetime.date(2020, 8, 23))"
      ]
     },
     "execution_count": 2,
     "metadata": {},
     "output_type": "execute_result"
    }
   ],
   "source": [
    "# Set date timestamps for historical data download\n",
    "start_date = datetime.datetime(2010, 1, 1).date()\n",
    "end_date = datetime.datetime.now().date()\n",
    "start_date, end_date"
   ]
  },
  {
   "cell_type": "code",
   "execution_count": 3,
   "metadata": {
    "ExecuteTime": {
     "end_time": "2020-08-22T19:18:41.660918Z",
     "start_time": "2020-08-22T19:18:41.654593Z"
    }
   },
   "outputs": [
    {
     "data": {
      "text/plain": [
       "datetime.timedelta(days=3887)"
      ]
     },
     "execution_count": 3,
     "metadata": {},
     "output_type": "execute_result"
    }
   ],
   "source": [
    "end_date - start_date"
   ]
  },
  {
   "cell_type": "code",
   "execution_count": 4,
   "metadata": {
    "ExecuteTime": {
     "end_time": "2020-08-22T19:18:41.665451Z",
     "start_time": "2020-08-22T19:18:41.661982Z"
    }
   },
   "outputs": [],
   "source": [
    "ticker = \"GOOGL\"\n",
    "# ticker = \"MSFT\"\n",
    "# ticker = \"FB\""
   ]
  },
  {
   "cell_type": "code",
   "execution_count": 5,
   "metadata": {
    "ExecuteTime": {
     "end_time": "2020-08-22T19:18:41.674915Z",
     "start_time": "2020-08-22T19:18:41.666192Z"
    }
   },
   "outputs": [
    {
     "data": {
      "text/plain": [
       "yfinance.Ticker object <GOOGL>"
      ]
     },
     "execution_count": 5,
     "metadata": {},
     "output_type": "execute_result"
    }
   ],
   "source": [
    "msft = yf.Ticker(ticker)\n",
    "\n",
    "msft"
   ]
  },
  {
   "cell_type": "code",
   "execution_count": 6,
   "metadata": {
    "ExecuteTime": {
     "end_time": "2020-08-22T19:18:43.400518Z",
     "start_time": "2020-08-22T19:18:41.675933Z"
    },
    "scrolled": true
   },
   "outputs": [
    {
     "data": {
      "text/plain": [
       "{'zip': '94043',\n",
       " 'sector': 'Communication Services',\n",
       " 'fullTimeEmployees': 127498,\n",
       " 'longBusinessSummary': 'Alphabet Inc. provides online advertising services in the United States, Europe, the Middle East, Africa, the Asia-Pacific, Canada, and Latin America. It offers performance and brand advertising services. The company operates through Google and Other Bets segments. The Google segment offers products, such as Ads, Android, Chrome, Google Cloud, Google Maps, Google Play, Hardware, Search, and YouTube, as well as technical infrastructure. It also offers digital content, cloud services, hardware devices, and other miscellaneous products and services. The Other Bets segment includes businesses, including Access, Calico, CapitalG, GV, Verily, Waymo, and X, as well as Internet and television services. Alphabet Inc. was founded in 1998 and is headquartered in Mountain View, California.',\n",
       " 'city': 'Mountain View',\n",
       " 'phone': '650-253-0000',\n",
       " 'state': 'CA',\n",
       " 'country': 'United States',\n",
       " 'companyOfficers': [],\n",
       " 'website': 'http://www.abc.xyz',\n",
       " 'maxAge': 1,\n",
       " 'address1': '1600 Amphitheatre Parkway',\n",
       " 'industry': 'Internet Content & Information',\n",
       " 'previousClose': 1576.25,\n",
       " 'regularMarketOpen': 1571.8,\n",
       " 'twoHundredDayAverage': 1381.3533,\n",
       " 'trailingAnnualDividendYield': None,\n",
       " 'payoutRatio': 0,\n",
       " 'volume24Hr': None,\n",
       " 'regularMarketDayHigh': 1591.88,\n",
       " 'navPrice': None,\n",
       " 'averageDailyVolume10Day': 1293262,\n",
       " 'totalAssets': None,\n",
       " 'regularMarketPreviousClose': 1576.25,\n",
       " 'fiftyDayAverage': 1518.2246,\n",
       " 'trailingAnnualDividendRate': None,\n",
       " 'open': 1571.8,\n",
       " 'toCurrency': None,\n",
       " 'averageVolume10days': 1293262,\n",
       " 'expireDate': None,\n",
       " 'yield': None,\n",
       " 'algorithm': None,\n",
       " 'dividendRate': None,\n",
       " 'exDividendDate': None,\n",
       " 'beta': 1.036263,\n",
       " 'circulatingSupply': None,\n",
       " 'startDate': None,\n",
       " 'regularMarketDayLow': 1562.31,\n",
       " 'priceHint': 2,\n",
       " 'currency': 'USD',\n",
       " 'trailingPE': 34.634,\n",
       " 'regularMarketVolume': 1742275,\n",
       " 'lastMarket': None,\n",
       " 'maxSupply': None,\n",
       " 'openInterest': None,\n",
       " 'marketCap': 1073479942144,\n",
       " 'volumeAllCurrencies': None,\n",
       " 'strikePrice': None,\n",
       " 'averageVolume': 1754445,\n",
       " 'priceToSalesTrailing12Months': 6.465578,\n",
       " 'dayLow': 1562.31,\n",
       " 'ask': 1579.89,\n",
       " 'ytdReturn': None,\n",
       " 'askSize': 800,\n",
       " 'volume': 1742275,\n",
       " 'fiftyTwoWeekHigh': 1591.88,\n",
       " 'forwardPE': 27.871395,\n",
       " 'fromCurrency': None,\n",
       " 'fiveYearAvgDividendYield': None,\n",
       " 'fiftyTwoWeekLow': 1008.87,\n",
       " 'bid': 1574.2,\n",
       " 'tradeable': False,\n",
       " 'dividendYield': None,\n",
       " 'bidSize': 800,\n",
       " 'dayHigh': 1591.88,\n",
       " 'exchange': 'NMS',\n",
       " 'shortName': 'Alphabet Inc.',\n",
       " 'longName': 'Alphabet Inc.',\n",
       " 'exchangeTimezoneName': 'America/New_York',\n",
       " 'exchangeTimezoneShortName': 'EDT',\n",
       " 'isEsgPopulated': False,\n",
       " 'gmtOffSetMilliseconds': '-14400000',\n",
       " 'quoteType': 'EQUITY',\n",
       " 'symbol': 'GOOGL',\n",
       " 'messageBoardId': 'finmb_29096',\n",
       " 'market': 'us_market',\n",
       " 'annualHoldingsTurnover': None,\n",
       " 'enterpriseToRevenue': 5.822,\n",
       " 'beta3Year': None,\n",
       " 'profitMargins': 0.18993,\n",
       " 'enterpriseToEbitda': 20.999,\n",
       " '52WeekChange': 0.3452841,\n",
       " 'morningStarRiskRating': None,\n",
       " 'forwardEps': 56.53,\n",
       " 'revenueQuarterlyGrowth': None,\n",
       " 'sharesOutstanding': 300471008,\n",
       " 'fundInceptionDate': None,\n",
       " 'annualReportExpenseRatio': None,\n",
       " 'bookValue': 304.342,\n",
       " 'sharesShort': 2609908,\n",
       " 'sharesPercentSharesOut': 0.0038,\n",
       " 'fundFamily': None,\n",
       " 'lastFiscalYearEnd': 1577750400,\n",
       " 'heldPercentInstitutions': 0.82294,\n",
       " 'netIncomeToCommon': 31534000128,\n",
       " 'trailingEps': 45.492,\n",
       " 'lastDividendValue': None,\n",
       " 'SandP52WeekChange': 0.18023336,\n",
       " 'priceToBook': 5.1769714,\n",
       " 'heldPercentInsiders': 0.0014300001,\n",
       " 'nextFiscalYearEnd': 1640908800,\n",
       " 'mostRecentQuarter': 1593475200,\n",
       " 'shortRatio': 1.39,\n",
       " 'sharesShortPreviousMonthDate': 1593475200,\n",
       " 'floatShares': 610528482,\n",
       " 'enterpriseValue': 966708428800,\n",
       " 'threeYearAverageReturn': None,\n",
       " 'lastSplitDate': 1396483200,\n",
       " 'lastSplitFactor': '1998:1000',\n",
       " 'legalType': None,\n",
       " 'morningStarOverallRating': None,\n",
       " 'earningsQuarterlyGrowth': -0.3,\n",
       " 'dateShortInterest': 1596153600,\n",
       " 'pegRatio': 7.42,\n",
       " 'lastCapGain': None,\n",
       " 'shortPercentOfFloat': 0.0087,\n",
       " 'sharesShortPriorMonth': 3094935,\n",
       " 'category': None,\n",
       " 'fiveYearAverageReturn': None,\n",
       " 'regularMarketPrice': 1571.8,\n",
       " 'logo_url': 'https://logo.clearbit.com/abc.xyz'}"
      ]
     },
     "execution_count": 6,
     "metadata": {},
     "output_type": "execute_result"
    }
   ],
   "source": [
    "msft.info"
   ]
  },
  {
   "cell_type": "code",
   "execution_count": 7,
   "metadata": {
    "ExecuteTime": {
     "end_time": "2020-08-22T19:18:43.725174Z",
     "start_time": "2020-08-22T19:18:43.401993Z"
    }
   },
   "outputs": [
    {
     "data": {
      "text/plain": [
       "(2679, 8)"
      ]
     },
     "execution_count": 7,
     "metadata": {},
     "output_type": "execute_result"
    }
   ],
   "source": [
    "historical_data = msft.history(start=start_date, end=end_date, interval=\"1d\").reset_index()\n",
    "\n",
    "historical_data.shape"
   ]
  },
  {
   "cell_type": "code",
   "execution_count": 8,
   "metadata": {
    "ExecuteTime": {
     "end_time": "2020-08-22T19:18:43.733900Z",
     "start_time": "2020-08-22T19:18:43.726741Z"
    }
   },
   "outputs": [
    {
     "data": {
      "text/html": [
       "<div>\n",
       "<style scoped>\n",
       "    .dataframe tbody tr th:only-of-type {\n",
       "        vertical-align: middle;\n",
       "    }\n",
       "\n",
       "    .dataframe tbody tr th {\n",
       "        vertical-align: top;\n",
       "    }\n",
       "\n",
       "    .dataframe thead th {\n",
       "        text-align: right;\n",
       "    }\n",
       "</style>\n",
       "<table border=\"1\" class=\"dataframe\">\n",
       "  <thead>\n",
       "    <tr style=\"text-align: right;\">\n",
       "      <th></th>\n",
       "      <th>Date</th>\n",
       "      <th>Open</th>\n",
       "      <th>High</th>\n",
       "      <th>Low</th>\n",
       "      <th>Close</th>\n",
       "      <th>Volume</th>\n",
       "      <th>Dividends</th>\n",
       "      <th>Stock Splits</th>\n",
       "    </tr>\n",
       "  </thead>\n",
       "  <tbody>\n",
       "    <tr>\n",
       "      <th>0</th>\n",
       "      <td>2009-12-31</td>\n",
       "      <td>312.69</td>\n",
       "      <td>313.01</td>\n",
       "      <td>310.30</td>\n",
       "      <td>310.30</td>\n",
       "      <td>2437100</td>\n",
       "      <td>0</td>\n",
       "      <td>0.0</td>\n",
       "    </tr>\n",
       "    <tr>\n",
       "      <th>1</th>\n",
       "      <td>2010-01-04</td>\n",
       "      <td>313.79</td>\n",
       "      <td>315.07</td>\n",
       "      <td>312.43</td>\n",
       "      <td>313.69</td>\n",
       "      <td>3908400</td>\n",
       "      <td>0</td>\n",
       "      <td>0.0</td>\n",
       "    </tr>\n",
       "    <tr>\n",
       "      <th>2</th>\n",
       "      <td>2010-01-05</td>\n",
       "      <td>313.90</td>\n",
       "      <td>314.23</td>\n",
       "      <td>311.08</td>\n",
       "      <td>312.31</td>\n",
       "      <td>6003300</td>\n",
       "      <td>0</td>\n",
       "      <td>0.0</td>\n",
       "    </tr>\n",
       "    <tr>\n",
       "      <th>3</th>\n",
       "      <td>2010-01-06</td>\n",
       "      <td>313.24</td>\n",
       "      <td>313.24</td>\n",
       "      <td>303.48</td>\n",
       "      <td>304.43</td>\n",
       "      <td>7949400</td>\n",
       "      <td>0</td>\n",
       "      <td>0.0</td>\n",
       "    </tr>\n",
       "    <tr>\n",
       "      <th>4</th>\n",
       "      <td>2010-01-07</td>\n",
       "      <td>305.01</td>\n",
       "      <td>305.31</td>\n",
       "      <td>296.62</td>\n",
       "      <td>297.35</td>\n",
       "      <td>12815700</td>\n",
       "      <td>0</td>\n",
       "      <td>0.0</td>\n",
       "    </tr>\n",
       "  </tbody>\n",
       "</table>\n",
       "</div>"
      ],
      "text/plain": [
       "        Date    Open    High     Low   Close    Volume  Dividends  \\\n",
       "0 2009-12-31  312.69  313.01  310.30  310.30   2437100          0   \n",
       "1 2010-01-04  313.79  315.07  312.43  313.69   3908400          0   \n",
       "2 2010-01-05  313.90  314.23  311.08  312.31   6003300          0   \n",
       "3 2010-01-06  313.24  313.24  303.48  304.43   7949400          0   \n",
       "4 2010-01-07  305.01  305.31  296.62  297.35  12815700          0   \n",
       "\n",
       "   Stock Splits  \n",
       "0           0.0  \n",
       "1           0.0  \n",
       "2           0.0  \n",
       "3           0.0  \n",
       "4           0.0  "
      ]
     },
     "execution_count": 8,
     "metadata": {},
     "output_type": "execute_result"
    }
   ],
   "source": [
    "historical_data.head()"
   ]
  },
  {
   "cell_type": "markdown",
   "metadata": {},
   "source": [
    "The above data shows stock prices on per day basis.\n",
    "\n",
    "+ High: Max stock price on that particular day\n",
    "+ Low: Lowest price went on that particular day\n",
    "+ Open: Stock price opening on that particular day\n",
    "+ Close: Final closing price of the stock on that particular day\n",
    "+ Volume: Amount of stock traded on that day\n",
    "+ Dividends: Dividens given (if any)\n",
    "+ Stock Splits: Stock split happend on that particular day (if any)"
   ]
  },
  {
   "cell_type": "code",
   "execution_count": 9,
   "metadata": {
    "ExecuteTime": {
     "end_time": "2020-08-22T19:18:43.760399Z",
     "start_time": "2020-08-22T19:18:43.735196Z"
    }
   },
   "outputs": [
    {
     "data": {
      "text/html": [
       "<div>\n",
       "<style scoped>\n",
       "    .dataframe tbody tr th:only-of-type {\n",
       "        vertical-align: middle;\n",
       "    }\n",
       "\n",
       "    .dataframe tbody tr th {\n",
       "        vertical-align: top;\n",
       "    }\n",
       "\n",
       "    .dataframe thead th {\n",
       "        text-align: right;\n",
       "    }\n",
       "</style>\n",
       "<table border=\"1\" class=\"dataframe\">\n",
       "  <thead>\n",
       "    <tr style=\"text-align: right;\">\n",
       "      <th></th>\n",
       "      <th>Open</th>\n",
       "      <th>High</th>\n",
       "      <th>Low</th>\n",
       "      <th>Close</th>\n",
       "      <th>Volume</th>\n",
       "      <th>Dividends</th>\n",
       "      <th>Stock Splits</th>\n",
       "    </tr>\n",
       "  </thead>\n",
       "  <tbody>\n",
       "    <tr>\n",
       "      <th>count</th>\n",
       "      <td>2679.000000</td>\n",
       "      <td>2679.000000</td>\n",
       "      <td>2679.000000</td>\n",
       "      <td>2679.000000</td>\n",
       "      <td>2.679000e+03</td>\n",
       "      <td>2679.0</td>\n",
       "      <td>2679.000000</td>\n",
       "    </tr>\n",
       "    <tr>\n",
       "      <th>mean</th>\n",
       "      <td>696.466558</td>\n",
       "      <td>702.655006</td>\n",
       "      <td>689.932647</td>\n",
       "      <td>696.549194</td>\n",
       "      <td>3.311138e+06</td>\n",
       "      <td>0.0</td>\n",
       "      <td>0.000746</td>\n",
       "    </tr>\n",
       "    <tr>\n",
       "      <th>std</th>\n",
       "      <td>364.876703</td>\n",
       "      <td>368.678913</td>\n",
       "      <td>361.285533</td>\n",
       "      <td>365.290921</td>\n",
       "      <td>2.626416e+06</td>\n",
       "      <td>0.0</td>\n",
       "      <td>0.038602</td>\n",
       "    </tr>\n",
       "    <tr>\n",
       "      <th>min</th>\n",
       "      <td>219.370000</td>\n",
       "      <td>221.360000</td>\n",
       "      <td>217.030000</td>\n",
       "      <td>218.250000</td>\n",
       "      <td>5.206000e+05</td>\n",
       "      <td>0.0</td>\n",
       "      <td>0.000000</td>\n",
       "    </tr>\n",
       "    <tr>\n",
       "      <th>25%</th>\n",
       "      <td>332.840000</td>\n",
       "      <td>335.770000</td>\n",
       "      <td>330.240000</td>\n",
       "      <td>334.210000</td>\n",
       "      <td>1.545400e+06</td>\n",
       "      <td>0.0</td>\n",
       "      <td>0.000000</td>\n",
       "    </tr>\n",
       "    <tr>\n",
       "      <th>50%</th>\n",
       "      <td>591.730000</td>\n",
       "      <td>595.300000</td>\n",
       "      <td>587.450000</td>\n",
       "      <td>591.970000</td>\n",
       "      <td>2.387600e+06</td>\n",
       "      <td>0.0</td>\n",
       "      <td>0.000000</td>\n",
       "    </tr>\n",
       "    <tr>\n",
       "      <th>75%</th>\n",
       "      <td>1036.195000</td>\n",
       "      <td>1050.525000</td>\n",
       "      <td>1023.580000</td>\n",
       "      <td>1036.455000</td>\n",
       "      <td>4.352950e+06</td>\n",
       "      <td>0.0</td>\n",
       "      <td>0.000000</td>\n",
       "    </tr>\n",
       "    <tr>\n",
       "      <th>max</th>\n",
       "      <td>1585.030000</td>\n",
       "      <td>1591.880000</td>\n",
       "      <td>1562.310000</td>\n",
       "      <td>1576.250000</td>\n",
       "      <td>2.961990e+07</td>\n",
       "      <td>0.0</td>\n",
       "      <td>1.998000</td>\n",
       "    </tr>\n",
       "  </tbody>\n",
       "</table>\n",
       "</div>"
      ],
      "text/plain": [
       "              Open         High          Low        Close        Volume  \\\n",
       "count  2679.000000  2679.000000  2679.000000  2679.000000  2.679000e+03   \n",
       "mean    696.466558   702.655006   689.932647   696.549194  3.311138e+06   \n",
       "std     364.876703   368.678913   361.285533   365.290921  2.626416e+06   \n",
       "min     219.370000   221.360000   217.030000   218.250000  5.206000e+05   \n",
       "25%     332.840000   335.770000   330.240000   334.210000  1.545400e+06   \n",
       "50%     591.730000   595.300000   587.450000   591.970000  2.387600e+06   \n",
       "75%    1036.195000  1050.525000  1023.580000  1036.455000  4.352950e+06   \n",
       "max    1585.030000  1591.880000  1562.310000  1576.250000  2.961990e+07   \n",
       "\n",
       "       Dividends  Stock Splits  \n",
       "count     2679.0   2679.000000  \n",
       "mean         0.0      0.000746  \n",
       "std          0.0      0.038602  \n",
       "min          0.0      0.000000  \n",
       "25%          0.0      0.000000  \n",
       "50%          0.0      0.000000  \n",
       "75%          0.0      0.000000  \n",
       "max          0.0      1.998000  "
      ]
     },
     "execution_count": 9,
     "metadata": {},
     "output_type": "execute_result"
    }
   ],
   "source": [
    "historical_data.describe()"
   ]
  },
  {
   "cell_type": "code",
   "execution_count": 10,
   "metadata": {
    "ExecuteTime": {
     "end_time": "2020-08-22T19:18:43.862681Z",
     "start_time": "2020-08-22T19:18:43.761396Z"
    }
   },
   "outputs": [
    {
     "data": {
      "text/plain": [
       "<matplotlib.legend.Legend at 0x7f4268745970>"
      ]
     },
     "execution_count": 10,
     "metadata": {},
     "output_type": "execute_result"
    },
    {
     "data": {
      "image/png": "[encoded data removed]",
      "text/plain": [
       "<Figure size 432x288 with 1 Axes>"
      ]
     },
     "metadata": {
      "needs_background": "light"
     },
     "output_type": "display_data"
    }
   ],
   "source": [
    "fig = plt.figure()\n",
    "\n",
    "plt.plot(historical_data.Close)\n",
    "\n",
    "plt.legend([\"Close\", \"Open\"])"
   ]
  },
  {
   "cell_type": "markdown",
   "metadata": {},
   "source": [
    "# Feature Engineering"
   ]
  },
  {
   "cell_type": "code",
   "execution_count": 11,
   "metadata": {
    "ExecuteTime": {
     "end_time": "2020-08-22T19:18:43.870180Z",
     "start_time": "2020-08-22T19:18:43.863644Z"
    }
   },
   "outputs": [
    {
     "data": {
      "text/html": [
       "<div>\n",
       "<style scoped>\n",
       "    .dataframe tbody tr th:only-of-type {\n",
       "        vertical-align: middle;\n",
       "    }\n",
       "\n",
       "    .dataframe tbody tr th {\n",
       "        vertical-align: top;\n",
       "    }\n",
       "\n",
       "    .dataframe thead th {\n",
       "        text-align: right;\n",
       "    }\n",
       "</style>\n",
       "<table border=\"1\" class=\"dataframe\">\n",
       "  <thead>\n",
       "    <tr style=\"text-align: right;\">\n",
       "      <th></th>\n",
       "      <th>Date</th>\n",
       "      <th>Open</th>\n",
       "      <th>High</th>\n",
       "      <th>Low</th>\n",
       "      <th>Close</th>\n",
       "      <th>Volume</th>\n",
       "      <th>Dividends</th>\n",
       "      <th>Stock Splits</th>\n",
       "    </tr>\n",
       "  </thead>\n",
       "  <tbody>\n",
       "    <tr>\n",
       "      <th>0</th>\n",
       "      <td>2009-12-31</td>\n",
       "      <td>312.69</td>\n",
       "      <td>313.01</td>\n",
       "      <td>310.30</td>\n",
       "      <td>310.30</td>\n",
       "      <td>2437100</td>\n",
       "      <td>0</td>\n",
       "      <td>0.0</td>\n",
       "    </tr>\n",
       "    <tr>\n",
       "      <th>1</th>\n",
       "      <td>2010-01-04</td>\n",
       "      <td>313.79</td>\n",
       "      <td>315.07</td>\n",
       "      <td>312.43</td>\n",
       "      <td>313.69</td>\n",
       "      <td>3908400</td>\n",
       "      <td>0</td>\n",
       "      <td>0.0</td>\n",
       "    </tr>\n",
       "    <tr>\n",
       "      <th>2</th>\n",
       "      <td>2010-01-05</td>\n",
       "      <td>313.90</td>\n",
       "      <td>314.23</td>\n",
       "      <td>311.08</td>\n",
       "      <td>312.31</td>\n",
       "      <td>6003300</td>\n",
       "      <td>0</td>\n",
       "      <td>0.0</td>\n",
       "    </tr>\n",
       "    <tr>\n",
       "      <th>3</th>\n",
       "      <td>2010-01-06</td>\n",
       "      <td>313.24</td>\n",
       "      <td>313.24</td>\n",
       "      <td>303.48</td>\n",
       "      <td>304.43</td>\n",
       "      <td>7949400</td>\n",
       "      <td>0</td>\n",
       "      <td>0.0</td>\n",
       "    </tr>\n",
       "    <tr>\n",
       "      <th>4</th>\n",
       "      <td>2010-01-07</td>\n",
       "      <td>305.01</td>\n",
       "      <td>305.31</td>\n",
       "      <td>296.62</td>\n",
       "      <td>297.35</td>\n",
       "      <td>12815700</td>\n",
       "      <td>0</td>\n",
       "      <td>0.0</td>\n",
       "    </tr>\n",
       "  </tbody>\n",
       "</table>\n",
       "</div>"
      ],
      "text/plain": [
       "        Date    Open    High     Low   Close    Volume  Dividends  \\\n",
       "0 2009-12-31  312.69  313.01  310.30  310.30   2437100          0   \n",
       "1 2010-01-04  313.79  315.07  312.43  313.69   3908400          0   \n",
       "2 2010-01-05  313.90  314.23  311.08  312.31   6003300          0   \n",
       "3 2010-01-06  313.24  313.24  303.48  304.43   7949400          0   \n",
       "4 2010-01-07  305.01  305.31  296.62  297.35  12815700          0   \n",
       "\n",
       "   Stock Splits  \n",
       "0           0.0  \n",
       "1           0.0  \n",
       "2           0.0  \n",
       "3           0.0  \n",
       "4           0.0  "
      ]
     },
     "execution_count": 11,
     "metadata": {},
     "output_type": "execute_result"
    }
   ],
   "source": [
    "historical_data.head()"
   ]
  },
  {
   "cell_type": "code",
   "execution_count": 12,
   "metadata": {
    "ExecuteTime": {
     "end_time": "2020-08-22T19:18:43.900222Z",
     "start_time": "2020-08-22T19:18:43.871042Z"
    }
   },
   "outputs": [
    {
     "data": {
      "text/html": [
       "<div>\n",
       "<style scoped>\n",
       "    .dataframe tbody tr th:only-of-type {\n",
       "        vertical-align: middle;\n",
       "    }\n",
       "\n",
       "    .dataframe tbody tr th {\n",
       "        vertical-align: top;\n",
       "    }\n",
       "\n",
       "    .dataframe thead th {\n",
       "        text-align: right;\n",
       "    }\n",
       "</style>\n",
       "<table border=\"1\" class=\"dataframe\">\n",
       "  <thead>\n",
       "    <tr style=\"text-align: right;\">\n",
       "      <th></th>\n",
       "      <th>Date</th>\n",
       "      <th>Open</th>\n",
       "      <th>High</th>\n",
       "      <th>Low</th>\n",
       "      <th>Close</th>\n",
       "      <th>Volume</th>\n",
       "      <th>Dividends</th>\n",
       "      <th>Stock Splits</th>\n",
       "      <th>Close_lag_1</th>\n",
       "      <th>Open_lag_1</th>\n",
       "      <th>...</th>\n",
       "      <th>High_lag_4</th>\n",
       "      <th>Low_lag_4</th>\n",
       "      <th>Close_lag_5</th>\n",
       "      <th>Open_lag_5</th>\n",
       "      <th>High_lag_5</th>\n",
       "      <th>Low_lag_5</th>\n",
       "      <th>Close_lag_6</th>\n",
       "      <th>Open_lag_6</th>\n",
       "      <th>High_lag_6</th>\n",
       "      <th>Low_lag_6</th>\n",
       "    </tr>\n",
       "  </thead>\n",
       "  <tbody>\n",
       "    <tr>\n",
       "      <th>0</th>\n",
       "      <td>2009-12-31</td>\n",
       "      <td>312.69</td>\n",
       "      <td>313.01</td>\n",
       "      <td>310.30</td>\n",
       "      <td>310.30</td>\n",
       "      <td>2437100</td>\n",
       "      <td>0</td>\n",
       "      <td>0.0</td>\n",
       "      <td>NaN</td>\n",
       "      <td>NaN</td>\n",
       "      <td>...</td>\n",
       "      <td>NaN</td>\n",
       "      <td>NaN</td>\n",
       "      <td>NaN</td>\n",
       "      <td>NaN</td>\n",
       "      <td>NaN</td>\n",
       "      <td>NaN</td>\n",
       "      <td>NaN</td>\n",
       "      <td>NaN</td>\n",
       "      <td>NaN</td>\n",
       "      <td>NaN</td>\n",
       "    </tr>\n",
       "    <tr>\n",
       "      <th>1</th>\n",
       "      <td>2010-01-04</td>\n",
       "      <td>313.79</td>\n",
       "      <td>315.07</td>\n",
       "      <td>312.43</td>\n",
       "      <td>313.69</td>\n",
       "      <td>3908400</td>\n",
       "      <td>0</td>\n",
       "      <td>0.0</td>\n",
       "      <td>310.30</td>\n",
       "      <td>312.69</td>\n",
       "      <td>...</td>\n",
       "      <td>NaN</td>\n",
       "      <td>NaN</td>\n",
       "      <td>NaN</td>\n",
       "      <td>NaN</td>\n",
       "      <td>NaN</td>\n",
       "      <td>NaN</td>\n",
       "      <td>NaN</td>\n",
       "      <td>NaN</td>\n",
       "      <td>NaN</td>\n",
       "      <td>NaN</td>\n",
       "    </tr>\n",
       "    <tr>\n",
       "      <th>2</th>\n",
       "      <td>2010-01-05</td>\n",
       "      <td>313.90</td>\n",
       "      <td>314.23</td>\n",
       "      <td>311.08</td>\n",
       "      <td>312.31</td>\n",
       "      <td>6003300</td>\n",
       "      <td>0</td>\n",
       "      <td>0.0</td>\n",
       "      <td>313.69</td>\n",
       "      <td>313.79</td>\n",
       "      <td>...</td>\n",
       "      <td>NaN</td>\n",
       "      <td>NaN</td>\n",
       "      <td>NaN</td>\n",
       "      <td>NaN</td>\n",
       "      <td>NaN</td>\n",
       "      <td>NaN</td>\n",
       "      <td>NaN</td>\n",
       "      <td>NaN</td>\n",
       "      <td>NaN</td>\n",
       "      <td>NaN</td>\n",
       "    </tr>\n",
       "    <tr>\n",
       "      <th>3</th>\n",
       "      <td>2010-01-06</td>\n",
       "      <td>313.24</td>\n",
       "      <td>313.24</td>\n",
       "      <td>303.48</td>\n",
       "      <td>304.43</td>\n",
       "      <td>7949400</td>\n",
       "      <td>0</td>\n",
       "      <td>0.0</td>\n",
       "      <td>312.31</td>\n",
       "      <td>313.90</td>\n",
       "      <td>...</td>\n",
       "      <td>NaN</td>\n",
       "      <td>NaN</td>\n",
       "      <td>NaN</td>\n",
       "      <td>NaN</td>\n",
       "      <td>NaN</td>\n",
       "      <td>NaN</td>\n",
       "      <td>NaN</td>\n",
       "      <td>NaN</td>\n",
       "      <td>NaN</td>\n",
       "      <td>NaN</td>\n",
       "    </tr>\n",
       "    <tr>\n",
       "      <th>4</th>\n",
       "      <td>2010-01-07</td>\n",
       "      <td>305.01</td>\n",
       "      <td>305.31</td>\n",
       "      <td>296.62</td>\n",
       "      <td>297.35</td>\n",
       "      <td>12815700</td>\n",
       "      <td>0</td>\n",
       "      <td>0.0</td>\n",
       "      <td>304.43</td>\n",
       "      <td>313.24</td>\n",
       "      <td>...</td>\n",
       "      <td>313.01</td>\n",
       "      <td>310.3</td>\n",
       "      <td>NaN</td>\n",
       "      <td>NaN</td>\n",
       "      <td>NaN</td>\n",
       "      <td>NaN</td>\n",
       "      <td>NaN</td>\n",
       "      <td>NaN</td>\n",
       "      <td>NaN</td>\n",
       "      <td>NaN</td>\n",
       "    </tr>\n",
       "  </tbody>\n",
       "</table>\n",
       "<p>5 rows × 32 columns</p>\n",
       "</div>"
      ],
      "text/plain": [
       "        Date    Open    High     Low   Close    Volume  Dividends  \\\n",
       "0 2009-12-31  312.69  313.01  310.30  310.30   2437100          0   \n",
       "1 2010-01-04  313.79  315.07  312.43  313.69   3908400          0   \n",
       "2 2010-01-05  313.90  314.23  311.08  312.31   6003300          0   \n",
       "3 2010-01-06  313.24  313.24  303.48  304.43   7949400          0   \n",
       "4 2010-01-07  305.01  305.31  296.62  297.35  12815700          0   \n",
       "\n",
       "   Stock Splits  Close_lag_1  Open_lag_1  ...  High_lag_4  Low_lag_4  \\\n",
       "0           0.0          NaN         NaN  ...         NaN        NaN   \n",
       "1           0.0       310.30      312.69  ...         NaN        NaN   \n",
       "2           0.0       313.69      313.79  ...         NaN        NaN   \n",
       "3           0.0       312.31      313.90  ...         NaN        NaN   \n",
       "4           0.0       304.43      313.24  ...      313.01      310.3   \n",
       "\n",
       "   Close_lag_5  Open_lag_5  High_lag_5  Low_lag_5  Close_lag_6  Open_lag_6  \\\n",
       "0          NaN         NaN         NaN        NaN          NaN         NaN   \n",
       "1          NaN         NaN         NaN        NaN          NaN         NaN   \n",
       "2          NaN         NaN         NaN        NaN          NaN         NaN   \n",
       "3          NaN         NaN         NaN        NaN          NaN         NaN   \n",
       "4          NaN         NaN         NaN        NaN          NaN         NaN   \n",
       "\n",
       "   High_lag_6  Low_lag_6  \n",
       "0         NaN        NaN  \n",
       "1         NaN        NaN  \n",
       "2         NaN        NaN  \n",
       "3         NaN        NaN  \n",
       "4         NaN        NaN  \n",
       "\n",
       "[5 rows x 32 columns]"
      ]
     },
     "execution_count": 12,
     "metadata": {},
     "output_type": "execute_result"
    }
   ],
   "source": [
    "# Create lag features\n",
    "for i in range(1, 7):\n",
    "    historical_data[f\"Close_lag_{i}\"] = historical_data.Close.shift(periods=i, axis=0)\n",
    "    historical_data[f\"Open_lag_{i}\"] = historical_data.Open.shift(periods=i, axis=0)\n",
    "    historical_data[f\"High_lag_{i}\"] = historical_data.High.shift(periods=i, axis=0)\n",
    "    historical_data[f\"Low_lag_{i}\"] = historical_data.Low.shift(periods=i, axis=0)\n",
    "\n",
    "historical_data.head()"
   ]
  },
  {
   "cell_type": "code",
   "execution_count": 13,
   "metadata": {
    "ExecuteTime": {
     "end_time": "2020-08-22T19:18:43.915494Z",
     "start_time": "2020-08-22T19:18:43.901135Z"
    }
   },
   "outputs": [
    {
     "data": {
      "text/html": [
       "<div>\n",
       "<style scoped>\n",
       "    .dataframe tbody tr th:only-of-type {\n",
       "        vertical-align: middle;\n",
       "    }\n",
       "\n",
       "    .dataframe tbody tr th {\n",
       "        vertical-align: top;\n",
       "    }\n",
       "\n",
       "    .dataframe thead th {\n",
       "        text-align: right;\n",
       "    }\n",
       "</style>\n",
       "<table border=\"1\" class=\"dataframe\">\n",
       "  <thead>\n",
       "    <tr style=\"text-align: right;\">\n",
       "      <th></th>\n",
       "      <th>Date</th>\n",
       "      <th>Open</th>\n",
       "      <th>High</th>\n",
       "      <th>Low</th>\n",
       "      <th>Close</th>\n",
       "      <th>Volume</th>\n",
       "      <th>Dividends</th>\n",
       "      <th>Stock Splits</th>\n",
       "      <th>Close_lag_1</th>\n",
       "      <th>Open_lag_1</th>\n",
       "      <th>...</th>\n",
       "      <th>High_lag_4</th>\n",
       "      <th>Low_lag_4</th>\n",
       "      <th>Close_lag_5</th>\n",
       "      <th>Open_lag_5</th>\n",
       "      <th>High_lag_5</th>\n",
       "      <th>Low_lag_5</th>\n",
       "      <th>Close_lag_6</th>\n",
       "      <th>Open_lag_6</th>\n",
       "      <th>High_lag_6</th>\n",
       "      <th>Low_lag_6</th>\n",
       "    </tr>\n",
       "  </thead>\n",
       "  <tbody>\n",
       "    <tr>\n",
       "      <th>0</th>\n",
       "      <td>2009-12-31</td>\n",
       "      <td>312.69</td>\n",
       "      <td>313.01</td>\n",
       "      <td>310.30</td>\n",
       "      <td>310.30</td>\n",
       "      <td>2437100</td>\n",
       "      <td>0</td>\n",
       "      <td>0.0</td>\n",
       "      <td>0.00</td>\n",
       "      <td>0.00</td>\n",
       "      <td>...</td>\n",
       "      <td>0.00</td>\n",
       "      <td>0.0</td>\n",
       "      <td>0.0</td>\n",
       "      <td>0.0</td>\n",
       "      <td>0.0</td>\n",
       "      <td>0.0</td>\n",
       "      <td>0.0</td>\n",
       "      <td>0.0</td>\n",
       "      <td>0.0</td>\n",
       "      <td>0.0</td>\n",
       "    </tr>\n",
       "    <tr>\n",
       "      <th>1</th>\n",
       "      <td>2010-01-04</td>\n",
       "      <td>313.79</td>\n",
       "      <td>315.07</td>\n",
       "      <td>312.43</td>\n",
       "      <td>313.69</td>\n",
       "      <td>3908400</td>\n",
       "      <td>0</td>\n",
       "      <td>0.0</td>\n",
       "      <td>310.30</td>\n",
       "      <td>312.69</td>\n",
       "      <td>...</td>\n",
       "      <td>0.00</td>\n",
       "      <td>0.0</td>\n",
       "      <td>0.0</td>\n",
       "      <td>0.0</td>\n",
       "      <td>0.0</td>\n",
       "      <td>0.0</td>\n",
       "      <td>0.0</td>\n",
       "      <td>0.0</td>\n",
       "      <td>0.0</td>\n",
       "      <td>0.0</td>\n",
       "    </tr>\n",
       "    <tr>\n",
       "      <th>2</th>\n",
       "      <td>2010-01-05</td>\n",
       "      <td>313.90</td>\n",
       "      <td>314.23</td>\n",
       "      <td>311.08</td>\n",
       "      <td>312.31</td>\n",
       "      <td>6003300</td>\n",
       "      <td>0</td>\n",
       "      <td>0.0</td>\n",
       "      <td>313.69</td>\n",
       "      <td>313.79</td>\n",
       "      <td>...</td>\n",
       "      <td>0.00</td>\n",
       "      <td>0.0</td>\n",
       "      <td>0.0</td>\n",
       "      <td>0.0</td>\n",
       "      <td>0.0</td>\n",
       "      <td>0.0</td>\n",
       "      <td>0.0</td>\n",
       "      <td>0.0</td>\n",
       "      <td>0.0</td>\n",
       "      <td>0.0</td>\n",
       "    </tr>\n",
       "    <tr>\n",
       "      <th>3</th>\n",
       "      <td>2010-01-06</td>\n",
       "      <td>313.24</td>\n",
       "      <td>313.24</td>\n",
       "      <td>303.48</td>\n",
       "      <td>304.43</td>\n",
       "      <td>7949400</td>\n",
       "      <td>0</td>\n",
       "      <td>0.0</td>\n",
       "      <td>312.31</td>\n",
       "      <td>313.90</td>\n",
       "      <td>...</td>\n",
       "      <td>0.00</td>\n",
       "      <td>0.0</td>\n",
       "      <td>0.0</td>\n",
       "      <td>0.0</td>\n",
       "      <td>0.0</td>\n",
       "      <td>0.0</td>\n",
       "      <td>0.0</td>\n",
       "      <td>0.0</td>\n",
       "      <td>0.0</td>\n",
       "      <td>0.0</td>\n",
       "    </tr>\n",
       "    <tr>\n",
       "      <th>4</th>\n",
       "      <td>2010-01-07</td>\n",
       "      <td>305.01</td>\n",
       "      <td>305.31</td>\n",
       "      <td>296.62</td>\n",
       "      <td>297.35</td>\n",
       "      <td>12815700</td>\n",
       "      <td>0</td>\n",
       "      <td>0.0</td>\n",
       "      <td>304.43</td>\n",
       "      <td>313.24</td>\n",
       "      <td>...</td>\n",
       "      <td>313.01</td>\n",
       "      <td>310.3</td>\n",
       "      <td>0.0</td>\n",
       "      <td>0.0</td>\n",
       "      <td>0.0</td>\n",
       "      <td>0.0</td>\n",
       "      <td>0.0</td>\n",
       "      <td>0.0</td>\n",
       "      <td>0.0</td>\n",
       "      <td>0.0</td>\n",
       "    </tr>\n",
       "  </tbody>\n",
       "</table>\n",
       "<p>5 rows × 32 columns</p>\n",
       "</div>"
      ],
      "text/plain": [
       "        Date    Open    High     Low   Close    Volume  Dividends  \\\n",
       "0 2009-12-31  312.69  313.01  310.30  310.30   2437100          0   \n",
       "1 2010-01-04  313.79  315.07  312.43  313.69   3908400          0   \n",
       "2 2010-01-05  313.90  314.23  311.08  312.31   6003300          0   \n",
       "3 2010-01-06  313.24  313.24  303.48  304.43   7949400          0   \n",
       "4 2010-01-07  305.01  305.31  296.62  297.35  12815700          0   \n",
       "\n",
       "   Stock Splits  Close_lag_1  Open_lag_1  ...  High_lag_4  Low_lag_4  \\\n",
       "0           0.0         0.00        0.00  ...        0.00        0.0   \n",
       "1           0.0       310.30      312.69  ...        0.00        0.0   \n",
       "2           0.0       313.69      313.79  ...        0.00        0.0   \n",
       "3           0.0       312.31      313.90  ...        0.00        0.0   \n",
       "4           0.0       304.43      313.24  ...      313.01      310.3   \n",
       "\n",
       "   Close_lag_5  Open_lag_5  High_lag_5  Low_lag_5  Close_lag_6  Open_lag_6  \\\n",
       "0          0.0         0.0         0.0        0.0          0.0         0.0   \n",
       "1          0.0         0.0         0.0        0.0          0.0         0.0   \n",
       "2          0.0         0.0         0.0        0.0          0.0         0.0   \n",
       "3          0.0         0.0         0.0        0.0          0.0         0.0   \n",
       "4          0.0         0.0         0.0        0.0          0.0         0.0   \n",
       "\n",
       "   High_lag_6  Low_lag_6  \n",
       "0         0.0        0.0  \n",
       "1         0.0        0.0  \n",
       "2         0.0        0.0  \n",
       "3         0.0        0.0  \n",
       "4         0.0        0.0  \n",
       "\n",
       "[5 rows x 32 columns]"
      ]
     },
     "execution_count": 13,
     "metadata": {},
     "output_type": "execute_result"
    }
   ],
   "source": [
    "historical_data.fillna(0, inplace=True)\n",
    "historical_data.head()"
   ]
  },
  {
   "cell_type": "code",
   "execution_count": 14,
   "metadata": {
    "ExecuteTime": {
     "end_time": "2020-08-22T19:18:43.919277Z",
     "start_time": "2020-08-22T19:18:43.916431Z"
    }
   },
   "outputs": [],
   "source": [
    "historical_data.drop(\n",
    "    columns=[\"Dividends\", \"Stock Splits\", \"Volume\", \"Open\", \"High\", \"Low\"], inplace=True)"
   ]
  },
  {
   "cell_type": "code",
   "execution_count": 15,
   "metadata": {
    "ExecuteTime": {
     "end_time": "2020-08-22T19:18:43.923301Z",
     "start_time": "2020-08-22T19:18:43.920145Z"
    }
   },
   "outputs": [],
   "source": [
    "# # Create a holiday dataframe\n",
    "# min_date, max_date = historical_data.Date.min(), historical_data.Date.max()\n",
    "# print(\"Min/Max dates:\", min_date, max_date)\n",
    "\n",
    "# date_range = pd.date_range(start=min_date, end=max_date)\n",
    "# print(\"Date range:\", date_range.min(), date_range.max())\n",
    "\n",
    "# # Find dates not present in historical df - closed stock market holiday\n",
    "# holiday_date_range = [d.date() for d in date_range if d not in historical_data.Date]\n",
    "# holiday_date_range[:5]"
   ]
  },
  {
   "cell_type": "code",
   "execution_count": 16,
   "metadata": {
    "ExecuteTime": {
     "end_time": "2020-08-22T19:18:43.928182Z",
     "start_time": "2020-08-22T19:18:43.924111Z"
    }
   },
   "outputs": [],
   "source": [
    "# holidays = pd.DataFrame({\n",
    "#     \"holiday\": \"shutdown\",\n",
    "#     \"ds\": pd.to_datetime(holiday_date_range),\n",
    "#     \"lower_bound\": 0,\n",
    "#     \"upper_bound\": 1,\n",
    "# })\n",
    "\n",
    "# holidays.head()"
   ]
  },
  {
   "cell_type": "markdown",
   "metadata": {},
   "source": [
    "# Modelling"
   ]
  },
  {
   "cell_type": "markdown",
   "metadata": {},
   "source": [
    "## Facebook's Prophet: Single Timestep Forecasting\n",
    "\n",
    "References: \n",
    "+ https://facebook.github.io/prophet/"
   ]
  },
  {
   "cell_type": "code",
   "execution_count": 17,
   "metadata": {
    "ExecuteTime": {
     "end_time": "2020-08-22T19:18:44.043035Z",
     "start_time": "2020-08-22T19:18:43.929346Z"
    }
   },
   "outputs": [],
   "source": [
    "import fbprophet as prophet"
   ]
  },
  {
   "cell_type": "code",
   "execution_count": 18,
   "metadata": {
    "ExecuteTime": {
     "end_time": "2020-08-22T19:18:44.046863Z",
     "start_time": "2020-08-22T19:18:44.044035Z"
    }
   },
   "outputs": [
    {
     "data": {
      "text/plain": [
       "((2649, 26), (30, 26))"
      ]
     },
     "execution_count": 18,
     "metadata": {},
     "output_type": "execute_result"
    }
   ],
   "source": [
    "validation_period = 30 # 30 days\n",
    "\n",
    "train, validation = historical_data.iloc[:-validation_period], historical_data.iloc[-validation_period:]\n",
    "\n",
    "train.shape, validation.shape"
   ]
  },
  {
   "cell_type": "code",
   "execution_count": 19,
   "metadata": {
    "ExecuteTime": {
     "end_time": "2020-08-22T19:18:44.070817Z",
     "start_time": "2020-08-22T19:18:44.047673Z"
    }
   },
   "outputs": [
    {
     "data": {
      "text/html": [
       "<div>\n",
       "<style scoped>\n",
       "    .dataframe tbody tr th:only-of-type {\n",
       "        vertical-align: middle;\n",
       "    }\n",
       "\n",
       "    .dataframe tbody tr th {\n",
       "        vertical-align: top;\n",
       "    }\n",
       "\n",
       "    .dataframe thead th {\n",
       "        text-align: right;\n",
       "    }\n",
       "</style>\n",
       "<table border=\"1\" class=\"dataframe\">\n",
       "  <thead>\n",
       "    <tr style=\"text-align: right;\">\n",
       "      <th></th>\n",
       "      <th>Date</th>\n",
       "      <th>Close</th>\n",
       "      <th>Close_lag_1</th>\n",
       "      <th>Open_lag_1</th>\n",
       "      <th>High_lag_1</th>\n",
       "      <th>Low_lag_1</th>\n",
       "      <th>Close_lag_2</th>\n",
       "      <th>Open_lag_2</th>\n",
       "      <th>High_lag_2</th>\n",
       "      <th>Low_lag_2</th>\n",
       "      <th>...</th>\n",
       "      <th>High_lag_4</th>\n",
       "      <th>Low_lag_4</th>\n",
       "      <th>Close_lag_5</th>\n",
       "      <th>Open_lag_5</th>\n",
       "      <th>High_lag_5</th>\n",
       "      <th>Low_lag_5</th>\n",
       "      <th>Close_lag_6</th>\n",
       "      <th>Open_lag_6</th>\n",
       "      <th>High_lag_6</th>\n",
       "      <th>Low_lag_6</th>\n",
       "    </tr>\n",
       "  </thead>\n",
       "  <tbody>\n",
       "    <tr>\n",
       "      <th>0</th>\n",
       "      <td>2009-12-31</td>\n",
       "      <td>310.30</td>\n",
       "      <td>0.00</td>\n",
       "      <td>0.00</td>\n",
       "      <td>0.00</td>\n",
       "      <td>0.00</td>\n",
       "      <td>0.00</td>\n",
       "      <td>0.00</td>\n",
       "      <td>0.00</td>\n",
       "      <td>0.00</td>\n",
       "      <td>...</td>\n",
       "      <td>0.00</td>\n",
       "      <td>0.0</td>\n",
       "      <td>0.0</td>\n",
       "      <td>0.0</td>\n",
       "      <td>0.0</td>\n",
       "      <td>0.0</td>\n",
       "      <td>0.0</td>\n",
       "      <td>0.0</td>\n",
       "      <td>0.0</td>\n",
       "      <td>0.0</td>\n",
       "    </tr>\n",
       "    <tr>\n",
       "      <th>1</th>\n",
       "      <td>2010-01-04</td>\n",
       "      <td>313.69</td>\n",
       "      <td>310.30</td>\n",
       "      <td>312.69</td>\n",
       "      <td>313.01</td>\n",
       "      <td>310.30</td>\n",
       "      <td>0.00</td>\n",
       "      <td>0.00</td>\n",
       "      <td>0.00</td>\n",
       "      <td>0.00</td>\n",
       "      <td>...</td>\n",
       "      <td>0.00</td>\n",
       "      <td>0.0</td>\n",
       "      <td>0.0</td>\n",
       "      <td>0.0</td>\n",
       "      <td>0.0</td>\n",
       "      <td>0.0</td>\n",
       "      <td>0.0</td>\n",
       "      <td>0.0</td>\n",
       "      <td>0.0</td>\n",
       "      <td>0.0</td>\n",
       "    </tr>\n",
       "    <tr>\n",
       "      <th>2</th>\n",
       "      <td>2010-01-05</td>\n",
       "      <td>312.31</td>\n",
       "      <td>313.69</td>\n",
       "      <td>313.79</td>\n",
       "      <td>315.07</td>\n",
       "      <td>312.43</td>\n",
       "      <td>310.30</td>\n",
       "      <td>312.69</td>\n",
       "      <td>313.01</td>\n",
       "      <td>310.30</td>\n",
       "      <td>...</td>\n",
       "      <td>0.00</td>\n",
       "      <td>0.0</td>\n",
       "      <td>0.0</td>\n",
       "      <td>0.0</td>\n",
       "      <td>0.0</td>\n",
       "      <td>0.0</td>\n",
       "      <td>0.0</td>\n",
       "      <td>0.0</td>\n",
       "      <td>0.0</td>\n",
       "      <td>0.0</td>\n",
       "    </tr>\n",
       "    <tr>\n",
       "      <th>3</th>\n",
       "      <td>2010-01-06</td>\n",
       "      <td>304.43</td>\n",
       "      <td>312.31</td>\n",
       "      <td>313.90</td>\n",
       "      <td>314.23</td>\n",
       "      <td>311.08</td>\n",
       "      <td>313.69</td>\n",
       "      <td>313.79</td>\n",
       "      <td>315.07</td>\n",
       "      <td>312.43</td>\n",
       "      <td>...</td>\n",
       "      <td>0.00</td>\n",
       "      <td>0.0</td>\n",
       "      <td>0.0</td>\n",
       "      <td>0.0</td>\n",
       "      <td>0.0</td>\n",
       "      <td>0.0</td>\n",
       "      <td>0.0</td>\n",
       "      <td>0.0</td>\n",
       "      <td>0.0</td>\n",
       "      <td>0.0</td>\n",
       "    </tr>\n",
       "    <tr>\n",
       "      <th>4</th>\n",
       "      <td>2010-01-07</td>\n",
       "      <td>297.35</td>\n",
       "      <td>304.43</td>\n",
       "      <td>313.24</td>\n",
       "      <td>313.24</td>\n",
       "      <td>303.48</td>\n",
       "      <td>312.31</td>\n",
       "      <td>313.90</td>\n",
       "      <td>314.23</td>\n",
       "      <td>311.08</td>\n",
       "      <td>...</td>\n",
       "      <td>313.01</td>\n",
       "      <td>310.3</td>\n",
       "      <td>0.0</td>\n",
       "      <td>0.0</td>\n",
       "      <td>0.0</td>\n",
       "      <td>0.0</td>\n",
       "      <td>0.0</td>\n",
       "      <td>0.0</td>\n",
       "      <td>0.0</td>\n",
       "      <td>0.0</td>\n",
       "    </tr>\n",
       "  </tbody>\n",
       "</table>\n",
       "<p>5 rows × 26 columns</p>\n",
       "</div>"
      ],
      "text/plain": [
       "        Date   Close  Close_lag_1  Open_lag_1  High_lag_1  Low_lag_1  \\\n",
       "0 2009-12-31  310.30         0.00        0.00        0.00       0.00   \n",
       "1 2010-01-04  313.69       310.30      312.69      313.01     310.30   \n",
       "2 2010-01-05  312.31       313.69      313.79      315.07     312.43   \n",
       "3 2010-01-06  304.43       312.31      313.90      314.23     311.08   \n",
       "4 2010-01-07  297.35       304.43      313.24      313.24     303.48   \n",
       "\n",
       "   Close_lag_2  Open_lag_2  High_lag_2  Low_lag_2  ...  High_lag_4  Low_lag_4  \\\n",
       "0         0.00        0.00        0.00       0.00  ...        0.00        0.0   \n",
       "1         0.00        0.00        0.00       0.00  ...        0.00        0.0   \n",
       "2       310.30      312.69      313.01     310.30  ...        0.00        0.0   \n",
       "3       313.69      313.79      315.07     312.43  ...        0.00        0.0   \n",
       "4       312.31      313.90      314.23     311.08  ...      313.01      310.3   \n",
       "\n",
       "   Close_lag_5  Open_lag_5  High_lag_5  Low_lag_5  Close_lag_6  Open_lag_6  \\\n",
       "0          0.0         0.0         0.0        0.0          0.0         0.0   \n",
       "1          0.0         0.0         0.0        0.0          0.0         0.0   \n",
       "2          0.0         0.0         0.0        0.0          0.0         0.0   \n",
       "3          0.0         0.0         0.0        0.0          0.0         0.0   \n",
       "4          0.0         0.0         0.0        0.0          0.0         0.0   \n",
       "\n",
       "   High_lag_6  Low_lag_6  \n",
       "0         0.0        0.0  \n",
       "1         0.0        0.0  \n",
       "2         0.0        0.0  \n",
       "3         0.0        0.0  \n",
       "4         0.0        0.0  \n",
       "\n",
       "[5 rows x 26 columns]"
      ]
     },
     "execution_count": 19,
     "metadata": {},
     "output_type": "execute_result"
    }
   ],
   "source": [
    "train.head()"
   ]
  },
  {
   "cell_type": "markdown",
   "metadata": {},
   "source": [
    "### Train and Forecast"
   ]
  },
  {
   "cell_type": "code",
   "execution_count": 20,
   "metadata": {
    "ExecuteTime": {
     "end_time": "2020-08-22T19:18:44.073378Z",
     "start_time": "2020-08-22T19:18:44.071711Z"
    }
   },
   "outputs": [],
   "source": [
    "lag_features = [col for col in historical_data.columns if \"lag\" in col]"
   ]
  },
  {
   "cell_type": "code",
   "execution_count": 21,
   "metadata": {
    "ExecuteTime": {
     "end_time": "2020-08-22T19:18:47.184719Z",
     "start_time": "2020-08-22T19:18:44.074146Z"
    }
   },
   "outputs": [
    {
     "name": "stderr",
     "output_type": "stream",
     "text": [
      "INFO:fbprophet:Disabling daily seasonality. Run prophet with daily_seasonality=True to override this.\n"
     ]
    },
    {
     "data": {
      "text/plain": [
       "<fbprophet.forecaster.Prophet at 0x7f42685d36d0>"
      ]
     },
     "execution_count": 21,
     "metadata": {},
     "output_type": "execute_result"
    }
   ],
   "source": [
    "model = prophet.Prophet(yearly_seasonality=True, weekly_seasonality=True, seasonality_mode=\"additive\")\n",
    "for name in lag_features:\n",
    "    model.add_regressor(name)\n",
    "\n",
    "model.fit(df=train.rename(columns={\"Date\": \"ds\", \"Close\":\"y\"}))"
   ]
  },
  {
   "cell_type": "code",
   "execution_count": 22,
   "metadata": {
    "ExecuteTime": {
     "end_time": "2020-08-22T19:18:48.058259Z",
     "start_time": "2020-08-22T19:18:47.185795Z"
    }
   },
   "outputs": [
    {
     "data": {
      "text/plain": [
       "(30, 94)"
      ]
     },
     "execution_count": 22,
     "metadata": {},
     "output_type": "execute_result"
    }
   ],
   "source": [
    "forecast = model.predict(validation[[col for col in validation.columns if col != \"Close\"]].rename(columns={\"Date\": \"ds\"}))\n",
    "\n",
    "forecast.shape"
   ]
  },
  {
   "cell_type": "code",
   "execution_count": 23,
   "metadata": {
    "ExecuteTime": {
     "end_time": "2020-08-22T19:18:48.075028Z",
     "start_time": "2020-08-22T19:18:48.060708Z"
    }
   },
   "outputs": [
    {
     "data": {
      "text/html": [
       "<div>\n",
       "<style scoped>\n",
       "    .dataframe tbody tr th:only-of-type {\n",
       "        vertical-align: middle;\n",
       "    }\n",
       "\n",
       "    .dataframe tbody tr th {\n",
       "        vertical-align: top;\n",
       "    }\n",
       "\n",
       "    .dataframe thead th {\n",
       "        text-align: right;\n",
       "    }\n",
       "</style>\n",
       "<table border=\"1\" class=\"dataframe\">\n",
       "  <thead>\n",
       "    <tr style=\"text-align: right;\">\n",
       "      <th></th>\n",
       "      <th>ds</th>\n",
       "      <th>trend</th>\n",
       "      <th>yhat_lower</th>\n",
       "      <th>yhat_upper</th>\n",
       "      <th>trend_lower</th>\n",
       "      <th>trend_upper</th>\n",
       "      <th>Close_lag_1</th>\n",
       "      <th>Close_lag_1_lower</th>\n",
       "      <th>Close_lag_1_upper</th>\n",
       "      <th>Close_lag_2</th>\n",
       "      <th>...</th>\n",
       "      <th>weekly</th>\n",
       "      <th>weekly_lower</th>\n",
       "      <th>weekly_upper</th>\n",
       "      <th>yearly</th>\n",
       "      <th>yearly_lower</th>\n",
       "      <th>yearly_upper</th>\n",
       "      <th>multiplicative_terms</th>\n",
       "      <th>multiplicative_terms_lower</th>\n",
       "      <th>multiplicative_terms_upper</th>\n",
       "      <th>yhat</th>\n",
       "    </tr>\n",
       "  </thead>\n",
       "  <tbody>\n",
       "    <tr>\n",
       "      <th>0</th>\n",
       "      <td>2020-07-13</td>\n",
       "      <td>656.779315</td>\n",
       "      <td>1511.242487</td>\n",
       "      <td>1547.604374</td>\n",
       "      <td>656.779315</td>\n",
       "      <td>656.779315</td>\n",
       "      <td>352.009840</td>\n",
       "      <td>352.009840</td>\n",
       "      <td>352.009840</td>\n",
       "      <td>27.827100</td>\n",
       "      <td>...</td>\n",
       "      <td>59.971018</td>\n",
       "      <td>59.971018</td>\n",
       "      <td>59.971018</td>\n",
       "      <td>3.901252</td>\n",
       "      <td>3.901252</td>\n",
       "      <td>3.901252</td>\n",
       "      <td>0.0</td>\n",
       "      <td>0.0</td>\n",
       "      <td>0.0</td>\n",
       "      <td>1530.326162</td>\n",
       "    </tr>\n",
       "    <tr>\n",
       "      <th>1</th>\n",
       "      <td>2020-07-14</td>\n",
       "      <td>656.797009</td>\n",
       "      <td>1503.525395</td>\n",
       "      <td>1539.139361</td>\n",
       "      <td>656.797009</td>\n",
       "      <td>656.797009</td>\n",
       "      <td>340.950198</td>\n",
       "      <td>340.950198</td>\n",
       "      <td>340.950198</td>\n",
       "      <td>28.507248</td>\n",
       "      <td>...</td>\n",
       "      <td>60.571234</td>\n",
       "      <td>60.571234</td>\n",
       "      <td>60.571234</td>\n",
       "      <td>3.966537</td>\n",
       "      <td>3.966537</td>\n",
       "      <td>3.966537</td>\n",
       "      <td>0.0</td>\n",
       "      <td>0.0</td>\n",
       "      <td>0.0</td>\n",
       "      <td>1521.057190</td>\n",
       "    </tr>\n",
       "    <tr>\n",
       "      <th>2</th>\n",
       "      <td>2020-07-15</td>\n",
       "      <td>656.814703</td>\n",
       "      <td>1496.008974</td>\n",
       "      <td>1530.132024</td>\n",
       "      <td>656.814703</td>\n",
       "      <td>656.814703</td>\n",
       "      <td>344.514228</td>\n",
       "      <td>344.514228</td>\n",
       "      <td>344.514228</td>\n",
       "      <td>27.612193</td>\n",
       "      <td>...</td>\n",
       "      <td>61.040568</td>\n",
       "      <td>61.040568</td>\n",
       "      <td>61.040568</td>\n",
       "      <td>3.989946</td>\n",
       "      <td>3.989946</td>\n",
       "      <td>3.989946</td>\n",
       "      <td>0.0</td>\n",
       "      <td>0.0</td>\n",
       "      <td>0.0</td>\n",
       "      <td>1512.781479</td>\n",
       "    </tr>\n",
       "    <tr>\n",
       "      <th>3</th>\n",
       "      <td>2020-07-16</td>\n",
       "      <td>656.832397</td>\n",
       "      <td>1489.697516</td>\n",
       "      <td>1524.211775</td>\n",
       "      <td>656.832397</td>\n",
       "      <td>656.832397</td>\n",
       "      <td>342.870562</td>\n",
       "      <td>342.870562</td>\n",
       "      <td>342.870562</td>\n",
       "      <td>27.900630</td>\n",
       "      <td>...</td>\n",
       "      <td>60.624196</td>\n",
       "      <td>60.624196</td>\n",
       "      <td>60.624196</td>\n",
       "      <td>3.971896</td>\n",
       "      <td>3.971896</td>\n",
       "      <td>3.971896</td>\n",
       "      <td>0.0</td>\n",
       "      <td>0.0</td>\n",
       "      <td>0.0</td>\n",
       "      <td>1506.660234</td>\n",
       "    </tr>\n",
       "    <tr>\n",
       "      <th>4</th>\n",
       "      <td>2020-07-17</td>\n",
       "      <td>656.850091</td>\n",
       "      <td>1493.683956</td>\n",
       "      <td>1530.441626</td>\n",
       "      <td>656.850091</td>\n",
       "      <td>656.850091</td>\n",
       "      <td>342.061118</td>\n",
       "      <td>342.061118</td>\n",
       "      <td>342.061118</td>\n",
       "      <td>27.767608</td>\n",
       "      <td>...</td>\n",
       "      <td>60.080551</td>\n",
       "      <td>60.080551</td>\n",
       "      <td>60.080551</td>\n",
       "      <td>3.913400</td>\n",
       "      <td>3.913400</td>\n",
       "      <td>3.913400</td>\n",
       "      <td>0.0</td>\n",
       "      <td>0.0</td>\n",
       "      <td>0.0</td>\n",
       "      <td>1512.045898</td>\n",
       "    </tr>\n",
       "    <tr>\n",
       "      <th>5</th>\n",
       "      <td>2020-07-20</td>\n",
       "      <td>656.903173</td>\n",
       "      <td>1489.616457</td>\n",
       "      <td>1524.465581</td>\n",
       "      <td>656.903173</td>\n",
       "      <td>656.903173</td>\n",
       "      <td>342.858172</td>\n",
       "      <td>342.858172</td>\n",
       "      <td>342.858172</td>\n",
       "      <td>27.702100</td>\n",
       "      <td>...</td>\n",
       "      <td>59.971018</td>\n",
       "      <td>59.971018</td>\n",
       "      <td>59.971018</td>\n",
       "      <td>3.513434</td>\n",
       "      <td>3.513434</td>\n",
       "      <td>3.513434</td>\n",
       "      <td>0.0</td>\n",
       "      <td>0.0</td>\n",
       "      <td>0.0</td>\n",
       "      <td>1506.296044</td>\n",
       "    </tr>\n",
       "    <tr>\n",
       "      <th>6</th>\n",
       "      <td>2020-07-21</td>\n",
       "      <td>656.920867</td>\n",
       "      <td>1544.570638</td>\n",
       "      <td>1579.755549</td>\n",
       "      <td>656.920867</td>\n",
       "      <td>656.920867</td>\n",
       "      <td>362.264168</td>\n",
       "      <td>362.264168</td>\n",
       "      <td>362.264168</td>\n",
       "      <td>27.766605</td>\n",
       "      <td>...</td>\n",
       "      <td>60.571234</td>\n",
       "      <td>60.571234</td>\n",
       "      <td>60.571234</td>\n",
       "      <td>3.313684</td>\n",
       "      <td>3.313684</td>\n",
       "      <td>3.313684</td>\n",
       "      <td>0.0</td>\n",
       "      <td>0.0</td>\n",
       "      <td>0.0</td>\n",
       "      <td>1561.411803</td>\n",
       "    </tr>\n",
       "    <tr>\n",
       "      <th>7</th>\n",
       "      <td>2020-07-22</td>\n",
       "      <td>656.938561</td>\n",
       "      <td>1524.909497</td>\n",
       "      <td>1558.259818</td>\n",
       "      <td>656.938561</td>\n",
       "      <td>656.938561</td>\n",
       "      <td>358.993355</td>\n",
       "      <td>358.993355</td>\n",
       "      <td>358.993355</td>\n",
       "      <td>29.337129</td>\n",
       "      <td>...</td>\n",
       "      <td>61.040568</td>\n",
       "      <td>61.040568</td>\n",
       "      <td>61.040568</td>\n",
       "      <td>3.085870</td>\n",
       "      <td>3.085870</td>\n",
       "      <td>3.085870</td>\n",
       "      <td>0.0</td>\n",
       "      <td>0.0</td>\n",
       "      <td>0.0</td>\n",
       "      <td>1541.718203</td>\n",
       "    </tr>\n",
       "    <tr>\n",
       "      <th>8</th>\n",
       "      <td>2020-07-23</td>\n",
       "      <td>656.956255</td>\n",
       "      <td>1544.839739</td>\n",
       "      <td>1581.676478</td>\n",
       "      <td>656.956255</td>\n",
       "      <td>656.956255</td>\n",
       "      <td>362.681279</td>\n",
       "      <td>362.681279</td>\n",
       "      <td>362.681279</td>\n",
       "      <td>29.072422</td>\n",
       "      <td>...</td>\n",
       "      <td>60.624196</td>\n",
       "      <td>60.624196</td>\n",
       "      <td>60.624196</td>\n",
       "      <td>2.833519</td>\n",
       "      <td>2.833519</td>\n",
       "      <td>2.833519</td>\n",
       "      <td>0.0</td>\n",
       "      <td>0.0</td>\n",
       "      <td>0.0</td>\n",
       "      <td>1563.552263</td>\n",
       "    </tr>\n",
       "    <tr>\n",
       "      <th>9</th>\n",
       "      <td>2020-07-24</td>\n",
       "      <td>656.973949</td>\n",
       "      <td>1491.046076</td>\n",
       "      <td>1526.073524</td>\n",
       "      <td>656.973949</td>\n",
       "      <td>656.973949</td>\n",
       "      <td>342.816874</td>\n",
       "      <td>342.816874</td>\n",
       "      <td>342.816874</td>\n",
       "      <td>29.370885</td>\n",
       "      <td>...</td>\n",
       "      <td>60.080551</td>\n",
       "      <td>60.080551</td>\n",
       "      <td>60.080551</td>\n",
       "      <td>2.560343</td>\n",
       "      <td>2.560343</td>\n",
       "      <td>2.560343</td>\n",
       "      <td>0.0</td>\n",
       "      <td>0.0</td>\n",
       "      <td>0.0</td>\n",
       "      <td>1508.609393</td>\n",
       "    </tr>\n",
       "  </tbody>\n",
       "</table>\n",
       "<p>10 rows × 94 columns</p>\n",
       "</div>"
      ],
      "text/plain": [
       "          ds       trend   yhat_lower   yhat_upper  trend_lower  trend_upper  \\\n",
       "0 2020-07-13  656.779315  1511.242487  1547.604374   656.779315   656.779315   \n",
       "1 2020-07-14  656.797009  1503.525395  1539.139361   656.797009   656.797009   \n",
       "2 2020-07-15  656.814703  1496.008974  1530.132024   656.814703   656.814703   \n",
       "3 2020-07-16  656.832397  1489.697516  1524.211775   656.832397   656.832397   \n",
       "4 2020-07-17  656.850091  1493.683956  1530.441626   656.850091   656.850091   \n",
       "5 2020-07-20  656.903173  1489.616457  1524.465581   656.903173   656.903173   \n",
       "6 2020-07-21  656.920867  1544.570638  1579.755549   656.920867   656.920867   \n",
       "7 2020-07-22  656.938561  1524.909497  1558.259818   656.938561   656.938561   \n",
       "8 2020-07-23  656.956255  1544.839739  1581.676478   656.956255   656.956255   \n",
       "9 2020-07-24  656.973949  1491.046076  1526.073524   656.973949   656.973949   \n",
       "\n",
       "   Close_lag_1  Close_lag_1_lower  Close_lag_1_upper  Close_lag_2  ...  \\\n",
       "0   352.009840         352.009840         352.009840    27.827100  ...   \n",
       "1   340.950198         340.950198         340.950198    28.507248  ...   \n",
       "2   344.514228         344.514228         344.514228    27.612193  ...   \n",
       "3   342.870562         342.870562         342.870562    27.900630  ...   \n",
       "4   342.061118         342.061118         342.061118    27.767608  ...   \n",
       "5   342.858172         342.858172         342.858172    27.702100  ...   \n",
       "6   362.264168         362.264168         362.264168    27.766605  ...   \n",
       "7   358.993355         358.993355         358.993355    29.337129  ...   \n",
       "8   362.681279         362.681279         362.681279    29.072422  ...   \n",
       "9   342.816874         342.816874         342.816874    29.370885  ...   \n",
       "\n",
       "      weekly  weekly_lower  weekly_upper    yearly  yearly_lower  \\\n",
       "0  59.971018     59.971018     59.971018  3.901252      3.901252   \n",
       "1  60.571234     60.571234     60.571234  3.966537      3.966537   \n",
       "2  61.040568     61.040568     61.040568  3.989946      3.989946   \n",
       "3  60.624196     60.624196     60.624196  3.971896      3.971896   \n",
       "4  60.080551     60.080551     60.080551  3.913400      3.913400   \n",
       "5  59.971018     59.971018     59.971018  3.513434      3.513434   \n",
       "6  60.571234     60.571234     60.571234  3.313684      3.313684   \n",
       "7  61.040568     61.040568     61.040568  3.085870      3.085870   \n",
       "8  60.624196     60.624196     60.624196  2.833519      2.833519   \n",
       "9  60.080551     60.080551     60.080551  2.560343      2.560343   \n",
       "\n",
       "   yearly_upper  multiplicative_terms  multiplicative_terms_lower  \\\n",
       "0      3.901252                   0.0                         0.0   \n",
       "1      3.966537                   0.0                         0.0   \n",
       "2      3.989946                   0.0                         0.0   \n",
       "3      3.971896                   0.0                         0.0   \n",
       "4      3.913400                   0.0                         0.0   \n",
       "5      3.513434                   0.0                         0.0   \n",
       "6      3.313684                   0.0                         0.0   \n",
       "7      3.085870                   0.0                         0.0   \n",
       "8      2.833519                   0.0                         0.0   \n",
       "9      2.560343                   0.0                         0.0   \n",
       "\n",
       "   multiplicative_terms_upper         yhat  \n",
       "0                         0.0  1530.326162  \n",
       "1                         0.0  1521.057190  \n",
       "2                         0.0  1512.781479  \n",
       "3                         0.0  1506.660234  \n",
       "4                         0.0  1512.045898  \n",
       "5                         0.0  1506.296044  \n",
       "6                         0.0  1561.411803  \n",
       "7                         0.0  1541.718203  \n",
       "8                         0.0  1563.552263  \n",
       "9                         0.0  1508.609393  \n",
       "\n",
       "[10 rows x 94 columns]"
      ]
     },
     "execution_count": 23,
     "metadata": {},
     "output_type": "execute_result"
    }
   ],
   "source": [
    "forecast.head(10)"
   ]
  },
  {
   "cell_type": "markdown",
   "metadata": {},
   "source": [
    "### Visualize forecasts"
   ]
  },
  {
   "cell_type": "code",
   "execution_count": 24,
   "metadata": {
    "ExecuteTime": {
     "end_time": "2020-08-22T19:18:48.215672Z",
     "start_time": "2020-08-22T19:18:48.076633Z"
    }
   },
   "outputs": [
    {
     "data": {
      "image/png": "[encoded data removed]",
      "text/plain": [
       "<Figure size 720x432 with 1 Axes>"
      ]
     },
     "metadata": {
      "needs_background": "light"
     },
     "output_type": "display_data"
    }
   ],
   "source": [
    "# Plotting predictions and uncertainity interval with respect to actuals\n",
    "fig = plt.figure(figsize=(10, 6))\n",
    "\n",
    "# Plot actuals\n",
    "plt.plot(historical_data.Date.iloc[-365:], historical_data.Close.iloc[-365:])\n",
    "\n",
    "# Plot forecasts for the latest 365 days as validation period\n",
    "plt.plot(forecast.ds, forecast.yhat)\n",
    "\n",
    "# Plot uncertainity - lower and upper bound for the forecasts\n",
    "plt.fill_between(forecast.ds, forecast.yhat_lower, forecast.yhat_upper, alpha=0.2)\n",
    "\n",
    "plt.xlabel(\"Date\")\n",
    "plt.ylabel(\"Predicted `Close` price of Stock\")\n",
    "plt.legend([\"Actual\", \"Forecast\", \"Forecast Uncertainity\"])\n",
    "plt.title(f\"{ticker}_Model_Forecast_Analysis\")\n",
    "plt.show()"
   ]
  },
  {
   "cell_type": "code",
   "execution_count": 25,
   "metadata": {
    "ExecuteTime": {
     "end_time": "2020-08-22T19:18:49.008773Z",
     "start_time": "2020-08-22T19:18:48.216537Z"
    }
   },
   "outputs": [
    {
     "data": {
      "image/png": "[encoded data removed]",
      "text/plain": [
       "<Figure size 648x864 with 4 Axes>"
      ]
     },
     "metadata": {},
     "output_type": "display_data"
    }
   ],
   "source": [
    "fig = model.plot_components(forecast)"
   ]
  },
  {
   "cell_type": "markdown",
   "metadata": {},
   "source": [
    "### Evaluate model performance"
   ]
  },
  {
   "cell_type": "code",
   "execution_count": 26,
   "metadata": {
    "ExecuteTime": {
     "end_time": "2020-08-22T19:18:49.038971Z",
     "start_time": "2020-08-22T19:18:49.010104Z"
    }
   },
   "outputs": [],
   "source": [
    "# General metrics\n",
    "from sklearn.metrics import mean_absolute_error\n",
    "\n",
    "# Mean absolute error metric\n",
    "def mae(y, yhat):\n",
    "    return mean_absolute_error(y, yhat)"
   ]
  },
  {
   "cell_type": "code",
   "execution_count": 27,
   "metadata": {
    "ExecuteTime": {
     "end_time": "2020-08-22T19:18:49.043119Z",
     "start_time": "2020-08-22T19:18:49.040045Z"
    }
   },
   "outputs": [
    {
     "data": {
      "text/plain": [
       "(Timestamp('2020-07-13 00:00:00'), Timestamp('2020-08-21 00:00:00'))"
      ]
     },
     "execution_count": 27,
     "metadata": {},
     "output_type": "execute_result"
    }
   ],
   "source": [
    "validation.Date.min(), validation.Date.max()"
   ]
  },
  {
   "cell_type": "code",
   "execution_count": 28,
   "metadata": {
    "ExecuteTime": {
     "end_time": "2020-08-22T19:18:49.051021Z",
     "start_time": "2020-08-22T19:18:49.043959Z"
    }
   },
   "outputs": [
    {
     "data": {
      "text/plain": [
       "(Timestamp('2020-07-13 00:00:00'), Timestamp('2020-08-21 00:00:00'))"
      ]
     },
     "execution_count": 28,
     "metadata": {},
     "output_type": "execute_result"
    }
   ],
   "source": [
    "forecast.ds.min(), forecast.ds.max()"
   ]
  },
  {
   "cell_type": "code",
   "execution_count": 29,
   "metadata": {
    "ExecuteTime": {
     "end_time": "2020-08-22T19:18:49.057554Z",
     "start_time": "2020-08-22T19:18:49.052358Z"
    }
   },
   "outputs": [
    {
     "data": {
      "text/plain": [
       "('Mean absolute error (Closing price of the stock) = ', 17.75032078404112)"
      ]
     },
     "execution_count": 29,
     "metadata": {},
     "output_type": "execute_result"
    }
   ],
   "source": [
    "\"Mean absolute error (Closing price of the stock) = \", mae(validation.Close, forecast.yhat)"
   ]
  },
  {
   "cell_type": "code",
   "execution_count": null,
   "metadata": {},
   "outputs": [],
   "source": []
  }
 ],
 "metadata": {
  "kernelspec": {
   "display_name": "Python [conda env:dlX]",
   "language": "python",
   "name": "conda-env-dlX-py"
  },
  "language_info": {
   "codemirror_mode": {
    "name": "ipython",
    "version": 3
   },
   "file_extension": ".py",
   "mimetype": "text/x-python",
   "name": "python",
   "nbconvert_exporter": "python",
   "pygments_lexer": "ipython3",
   "version": "3.8.5"
  },
  "toc": {
   "base_numbering": 1,
   "nav_menu": {},
   "number_sections": true,
   "sideBar": true,
   "skip_h1_title": false,
   "title_cell": "Table of Contents",
   "title_sidebar": "Contents",
   "toc_cell": false,
   "toc_position": {},
   "toc_section_display": true,
   "toc_window_display": false
  },
  "varInspector": {
   "cols": {
    "lenName": 16,
    "lenType": 16,
    "lenVar": 40
   },
   "kernels_config": {
    "python": {
     "delete_cmd_postfix": "",
     "delete_cmd_prefix": "del ",
     "library": "var_list.py",
     "varRefreshCmd": "print(var_dic_list())"
    },
    "r": {
     "delete_cmd_postfix": ") ",
     "delete_cmd_prefix": "rm(",
     "library": "var_list.r",
     "varRefreshCmd": "cat(var_dic_list()) "
    }
   },
   "types_to_exclude": [
    "module",
    "function",
    "builtin_function_or_method",
    "instance",
    "_Feature"
   ],
   "window_display": false
  }
 },
 "nbformat": 4,
 "nbformat_minor": 4
}
